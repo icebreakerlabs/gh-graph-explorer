{
 "cells": [
  {
   "cell_type": "markdown",
   "id": "8a995d1c",
   "metadata": {},
   "source": [
    "# Generic Graph Explorer Template\n",
    "This notebook provides a template for exploring and analyzing graph data using Python libraries such as NetworkX and pandas. Replace the data loading and filtering steps with your own data sources and requirements."
   ]
  },
  {
   "cell_type": "code",
   "execution_count": 1,
   "id": "f444cb28",
   "metadata": {},
   "outputs": [],
   "source": [
    "import networkx as nx\n",
    "import pandas as pd\n",
    "import numpy as np\n",
    "from pyvis.network import Network\n",
    "import os\n",
    "import glob\n",
    "import datetime \n",
    "import matplotlib.pyplot as plt\n",
    "import scipy as sp\n",
    "from PIL import Image\n",
    "import io\n",
    "import pyperclip"
   ]
  },
  {
   "cell_type": "markdown",
   "id": "dfe5aed5",
   "metadata": {},
   "source": [
    "## Load and Prepare Data\n",
    "Replace the file loading and filtering logic below with your own data source and preprocessing steps."
   ]
  },
  {
   "cell_type": "code",
   "execution_count": 2,
   "id": "1dc965ad",
   "metadata": {},
   "outputs": [],
   "source": [
    "# Example: Load CSV files matching a pattern (update the pattern to your data location)\n",
    "files = glob.glob(os.path.join(os.getcwd(), 'path/to/your/data/**/*.csv'), recursive=True)\n",
    "df = pd.DataFrame(columns=['source', 'target', 'url', 'created_at', 'title'])\n",
    "\n",
    "for file in files:\n",
    "    print(file)\n",
    "    temp_df = pd.read_csv(file)\n",
    "    temp_df['title'] = temp_df['title'].replace(np.nan, '[No Title]')\n",
    "    df = pd.concat([df, temp_df], ignore_index=True)\n",
    "\n",
    "df.drop_duplicates(inplace=True)\n",
    "df['target'] = df['target'].str.split('#').str[0]\n",
    "df[\"created_at\"] = pd.to_datetime(df[\"created_at\"], errors='coerce')\n",
    "df = df[df['created_at'].notnull()]\n",
    "df['Start'] = df.created_at.apply(lambda x: x.isoformat())\n",
    "df['End'] = df.created_at.apply(lambda t: t+pd.Timedelta(weeks=1)).apply(lambda x: x.isoformat())\n",
    "\n",
    "# Example filters (customize as needed)\n",
    "df = df[df['title'].str.contains('standup', case=False) == False]\n",
    "df = df[df['title'].str.startswith('Standup ') == False]\n",
    "\n",
    "df.to_csv(\"alldata.csv\")"
   ]
  },
  {
   "cell_type": "markdown",
   "id": "6dcee3bf",
   "metadata": {},
   "source": [
    "## Build Graph\n",
    "Create a NetworkX graph from the dataframe. Adjust the column names as needed for your data."
   ]
  },
  {
   "cell_type": "code",
   "execution_count": 3,
   "id": "dfa0ccda",
   "metadata": {},
   "outputs": [],
   "source": [
    "G = nx.from_pandas_edgelist(df, source='source', target='target')\n",
    "for node in G.nodes():\n",
    "    G.nodes()[node]['Label'] = str(node)\n",
    "    G.nodes()[node]['Start'] = df[df.source == node].Start.min().split(\"T\")[0] if not df[df.source == node].empty else ''\n",
    "    G.nodes()[node]['End'] = df[df.source == node].End.max().split(\"T\")[0] if not df[df.source == node].empty else ''\n",
    "\n",
    "nx.write_gml(G, \"all_dynamic.gml\")"
   ]
  },
  {
   "cell_type": "code",
   "execution_count": 4,
   "id": "e0eddd1f",
   "metadata": {},
   "outputs": [],
   "source": [
    "G = nx.from_pandas_edgelist(df, source='source', target='target', edge_attr='created_at')\n",
    "node_types = []\n",
    "for node in G.nodes():\n",
    "    # Example: Assign colors/sizes based on node type or other logic\n",
    "    G.nodes()[node]['color'] = 'green'\n",
    "    G.nodes()[node]['size'] = 20\n",
    "    node_types.append(node)"
   ]
  },
  {
   "cell_type": "code",
   "execution_count": 7,
   "id": "7779f527",
   "metadata": {},
   "outputs": [
    {
     "ename": "ValueError",
     "evalue": "max() iterable argument is empty",
     "output_type": "error",
     "traceback": [
      "\u001b[31m---------------------------------------------------------------------------\u001b[39m",
      "\u001b[31mValueError\u001b[39m                                Traceback (most recent call last)",
      "\u001b[36mCell\u001b[39m\u001b[36m \u001b[39m\u001b[32mIn[7]\u001b[39m\u001b[32m, line 2\u001b[39m\n\u001b[32m      1\u001b[39m span = \u001b[32m14\u001b[39m\n\u001b[32m----> \u001b[39m\u001b[32m2\u001b[39m iterations = (\u001b[38;5;28;43mmax\u001b[39;49m\u001b[43m(\u001b[49m\u001b[43mdf\u001b[49m\u001b[43m[\u001b[49m\u001b[33;43m'\u001b[39;49m\u001b[33;43mcreated_at\u001b[39;49m\u001b[33;43m'\u001b[39;49m\u001b[43m]\u001b[49m\u001b[43m)\u001b[49m  - \u001b[38;5;28mmin\u001b[39m(df[\u001b[33m'\u001b[39m\u001b[33mcreated_at\u001b[39m\u001b[33m'\u001b[39m]) ).days // span\n\u001b[32m      3\u001b[39m results = []\n\u001b[32m      4\u001b[39m evc_results = []\n",
      "\u001b[31mValueError\u001b[39m: max() iterable argument is empty"
     ]
    }
   ],
   "source": [
    "span = 14\n",
    "iterations = (max(df['created_at'])  - min(df['created_at']) ).days // span\n",
    "results = []\n",
    "evc_results = []\n",
    "for iteration in range(iterations):\n",
    "    delta = datetime.timedelta(days=iteration * span)\n",
    "    start =  min(df['created_at']) + delta\n",
    "    end =  min(df['created_at']) + datetime.timedelta(days=span) + delta\n",
    "    SG = nx.from_pandas_edgelist(df[(df['created_at']>start) & (df['created_at']<end)] , source='source', target='target') \n",
    "    results.append([start,  SG.number_of_edges(), nx.average_node_connectivity(SG), nx.density(SG), SG.number_of_nodes()])\n",
    "    print(start, end)\n",
    "    evc = nx.eigenvector_centrality(SG, max_iter=10000)\n",
    "    evc_results.append([start] +[ evc.get(node, 0) for node in node_types ])\n",
    "\n",
    "stats = pd.DataFrame(results, columns=['start_date', 'edges', 'mean_node_connectivity', 'density', \"nodes\"])\n",
    "evc_results_df = pd.DataFrame(evc_results ,columns=['start_date'] + node_types)\n",
    "evc_results_df.replace(0, np.nan)\n",
    "evc_results_df[\"mean\"] = evc_results_df[node_types].median(axis=1)"
   ]
  },
  {
   "cell_type": "code",
   "execution_count": 6,
   "id": "dcbb9d79",
   "metadata": {},
   "outputs": [
    {
     "ename": "NameError",
     "evalue": "name 'stats' is not defined",
     "output_type": "error",
     "traceback": [
      "\u001b[31m---------------------------------------------------------------------------\u001b[39m",
      "\u001b[31mNameError\u001b[39m                                 Traceback (most recent call last)",
      "\u001b[36mCell\u001b[39m\u001b[36m \u001b[39m\u001b[32mIn[6]\u001b[39m\u001b[32m, line 1\u001b[39m\n\u001b[32m----> \u001b[39m\u001b[32m1\u001b[39m \u001b[43mstats\u001b[49m\n",
      "\u001b[31mNameError\u001b[39m: name 'stats' is not defined"
     ]
    }
   ],
   "source": [
    "stats"
   ]
  },
  {
   "cell_type": "code",
   "execution_count": null,
   "id": "5f6e3de0",
   "metadata": {},
   "outputs": [],
   "source": [
    "stats.to_clipboard()\n",
    "stats"
   ]
  },
  {
   "cell_type": "code",
   "execution_count": null,
   "id": "af474184",
   "metadata": {},
   "outputs": [],
   "source": [
    "# Plotting\n",
    "fig, ax1 = plt.subplots(figsize=(14, 8))\n",
    "\n",
    "# Plot Mean Node Connectivity\n",
    "color = 'tab:red'\n",
    "ax1.set_xlabel('Date')\n",
    "ax1.set_ylabel('Mean Node Connectivity', color=color)\n",
    "ax1.plot(stats['start_date'], stats['mean_node_connectivity'], color=color, marker='o', linestyle='-', linewidth=2, markersize=8, label='Mean Node Connectivity')\n",
    "ax1.tick_params(axis='y', labelcolor=color)\n",
    "\n",
    "# Create a second y-axis for edges and density\n",
    "ax2 = ax1.twinx()  \n",
    "ax2.set_ylabel('Nodes', color='tab:blue')\n",
    "ax2.plot(stats['start_date'], stats['nodes'], color='tab:blue', marker='s', linestyle='--', linewidth=2, markersize=8, label='Nodes')\n",
    "ax2.tick_params(axis='y', labelcolor='tab:blue')\n",
    "\n",
    "# Create a third y-axis for density\n",
    "ax3 = ax1.twinx()  \n",
    "ax3.spines['right'].set_position(('outward', 60))\n",
    "ax3.set_ylabel('Density', color='tab:green')\n",
    "ax3.plot(stats['start_date'], stats['density'], color='tab:green', marker='^', linestyle='-.', linewidth=2, markersize=8, label='Density')\n",
    "ax3.tick_params(axis='y', labelcolor='tab:green')\n",
    "\n",
    "# Adding legends\n",
    "lines = ax1.get_lines() + ax2.get_lines() + ax3.get_lines()\n",
    "labels = [line.get_label() for line in lines]\n",
    "ax1.legend(lines, labels, loc='upper left')\n",
    "\n",
    "# Add grid, title and format x-axis\n",
    "ax1.grid(True)\n",
    "fig.suptitle('Edges, Mean Node Connectivity, and Density over Time')\n",
    "fig.tight_layout()\n",
    "\n",
    "# Save the plot as an image\n",
    "image_path = 'plot_image.png'\n",
    "plt.savefig(image_path)\n",
    "\n",
    "plt.show()\n",
    "\n",
    "# Open the saved image\n",
    "with Image.open('plot_image.png') as img:\n",
    "    buffer = io.BytesIO()\n",
    "    img.save(buffer, format='PNG')\n",
    "    image_data = buffer.getvalue()\n",
    "\n",
    "# Copy the image data to the clipboard\n",
    "pyperclip.copy(image_data)"
   ]
  },
  {
   "cell_type": "code",
   "execution_count": null,
   "id": "ef93920d",
   "metadata": {},
   "outputs": [],
   "source": [
    "# Example: Plotting various statistics\n",
    "to_plot = ['mean_node_connectivity', 'edges', 'density']\n",
    "for col in to_plot:\n",
    "    stats.plot(x=\"start_date\", y=col)\n",
    "    plt.xticks(rotation=45)\n",
    "\n",
    "evcs = [col for col in evc_results_df.columns if col not in ['start_date', 'mean']]\n",
    "evcs = evcs[:5]  # Plot only first 5 for clarity\n",
    "for node in evcs:\n",
    "    evc_results_df.plot(x=\"start_date\", y=node)\n",
    "    plt.xticks(rotation=45)"
   ]
  },
  {
   "cell_type": "code",
   "execution_count": null,
   "id": "87015d37",
   "metadata": {},
   "outputs": [],
   "source": [
    "evcs = [col for col in evc_results_df.columns if col not in ['start_date', 'mean']]\n",
    "evcs = evcs[:5]\n",
    "evcs_df = evc_results_df[evcs]\n",
    "evcs_df.plot(kind='line', figsize=(14, 8))  "
   ]
  },
  {
   "cell_type": "markdown",
   "id": "5d338d3e",
   "metadata": {},
   "source": [
    "## Team Work (Optional)\n",
    "You can add logic here to color or size nodes based on team membership or other attributes relevant to your data."
   ]
  },
  {
   "cell_type": "code",
   "execution_count": null,
   "id": "c00523c3",
   "metadata": {},
   "outputs": [],
   "source": [
    "# Example: Visualize a subgraph\n",
    "graph_to_visualize = G  # or SG, or any subgraph\n",
    "graph_net = Network(height=\"750px\", width=\"100%\", bgcolor=\"#222222\", font_color=\"white\", notebook=True)\n",
    "graph_net.from_nx(graph_to_visualize)\n",
    "graph_net.show_buttons(filter_=['physics'])\n",
    "graph_net.save_graph('team-graph.html')"
   ]
  },
  {
   "cell_type": "markdown",
   "id": "6d194096",
   "metadata": {},
   "source": [
    "## Centrality Measures\n",
    "Calculate and display centrality measures for your graph."
   ]
  },
  {
   "cell_type": "code",
   "execution_count": null,
   "id": "b4d187db",
   "metadata": {},
   "outputs": [],
   "source": [
    "closeness_centrality = list(sorted(nx.closeness_centrality(G).items(), key=lambda item: item[1], reverse=True))\n",
    "print(\"Top nodes by closeness centrality:\")\n",
    "for item in closeness_centrality[:10]:\n",
    "    print(item[0], item[1])\n",
    "\n",
    "betweenness_centrality = list(sorted(nx.betweenness_centrality(G).items(), key=lambda item: item[1], reverse=True))\n",
    "print(\"Top nodes by betweenness centrality:\")\n",
    "for item in betweenness_centrality[:10]:\n",
    "    print(item[0], item[1])"
   ]
  },
  {
   "cell_type": "code",
   "execution_count": null,
   "id": "77c1941e",
   "metadata": {},
   "outputs": [],
   "source": [
    "print(\"Number of edges\", G.number_of_edges())\n",
    "print(\"Average Node Connectivity\", nx.average_node_connectivity(G))\n",
    "print(\"Density\", nx.density(G))"
   ]
  },
  {
   "cell_type": "code",
   "execution_count": null,
   "id": "e568c4f9",
   "metadata": {},
   "outputs": [],
   "source": [
    "nx.write_gexf(G, \"all_dynamic.gexf\")"
   ]
  }
 ],
 "metadata": {
  "kernelspec": {
   "display_name": ".venv",
   "language": "python",
   "name": "python3"
  },
  "language_info": {
   "codemirror_mode": {
    "name": "ipython",
    "version": 3
   },
   "file_extension": ".py",
   "mimetype": "text/x-python",
   "name": "python",
   "nbconvert_exporter": "python",
   "pygments_lexer": "ipython3",
   "version": "3.12.7"
  }
 },
 "nbformat": 4,
 "nbformat_minor": 5
}
