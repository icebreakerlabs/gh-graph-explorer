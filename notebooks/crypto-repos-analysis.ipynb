{
  "cells": [
    {
      "cell_type": "raw",
      "metadata": {
        "vscode": {
          "languageId": "raw"
        }
      },
      "source": [
        "# Crypto Repositories Social Network Analysis\n",
        "\n",
        "This notebook analyzes multiple crypto repositories from diverse ecosystems using social network analysis to understand collaboration patterns across different crypto projects.\n",
        "\n",
        "## Features:\n",
        "- Selects 20-30 diverse crypto repositories from different ecosystems\n",
        "- Analyzes the past 6 months of activity for each repository  \n",
        "- Performs comprehensive social network analysis\n",
        "- Generates comparative insights across ecosystems\n",
        "- Creates visualizations and exports data to CSV files\n",
        "\n",
        "## Setup\n",
        "\n",
        "Make sure you have your GitHub token set in your environment variables:\n",
        "```bash\n",
        "export GITHUB_TOKEN=your_github_token_here\n",
        "```\n"
      ]
    },
    {
      "cell_type": "code",
      "execution_count": null,
      "metadata": {},
      "outputs": [],
      "source": [
        "# Import the crypto repository analyzer\n",
        "import sys\n",
        "import os\n",
        "\n",
        "# Add the notebooks directory to the path so we can import the analyzer\n",
        "sys.path.append(os.getcwd())\n",
        "\n",
        "from crypto_repo_analyzer import CryptoRepoAnalyzer\n",
        "\n",
        "# Check if GitHub token is available\n",
        "github_token = os.environ.get('GITHUB_TOKEN')\n",
        "if not github_token:\n",
        "    print(\"⚠️  Error: GITHUB_TOKEN environment variable not set\")\n",
        "    print(\"Please set your GitHub token first:\")\n",
        "    print(\"export GITHUB_TOKEN=your_github_token_here\")\n",
        "else:\n",
        "    print(\"✅ GitHub token found\")\n",
        "    \n",
        "print(\"🚀 Ready to analyze crypto repositories!\")\n"
      ]
    },
    {
      "cell_type": "code",
      "execution_count": null,
      "metadata": {},
      "outputs": [],
      "source": [
        "# Run the complete crypto repositories analysis\n",
        "if github_token:\n",
        "    # Initialize the analyzer\n",
        "    analyzer = CryptoRepoAnalyzer(github_token)\n",
        "    \n",
        "    # Configuration\n",
        "    months_back = 6  # Analyze past 6 months\n",
        "    target_repo_count = 25  # Target 25 diverse repositories\n",
        "    \n",
        "    print(f\"Starting analysis with the following parameters:\")\n",
        "    print(f\"📅 Analysis period: {months_back} months\")\n",
        "    print(f\"🎯 Target repositories: {target_repo_count}\")\n",
        "    print(f\"📁 Data will be exported to the data/ directory\")\n",
        "    print(f\"📊 Visualizations will be saved as PNG files\")\n",
        "    print(\"\\n\" + \"=\"*50)\n",
        "    \n",
        "    # Run the full analysis\n",
        "    results = analyzer.run_full_analysis(months_back, target_repo_count)\n",
        "    \n",
        "    if results:\n",
        "        print(\"\\n🎉 Analysis completed successfully!\")\n",
        "        print(\"Check the data/ directory for exported files:\")\n",
        "        print(\"- Raw activity data CSV\")\n",
        "        print(\"- SNA metrics CSV\") \n",
        "        print(\"- Network edges CSV\")\n",
        "        print(\"- Repository summary CSV\")\n",
        "        print(\"- Analysis summary CSV\")\n",
        "        print(\"- Comprehensive visualization PNG\")\n",
        "    else:\n",
        "        print(\"❌ Analysis failed. Check the output above for errors.\")\n",
        "else:\n",
        "    print(\"❌ Cannot run analysis without GitHub token.\")\n"
      ]
    }
  ],
  "metadata": {
    "language_info": {
      "name": "python"
    }
  },
  "nbformat": 4,
  "nbformat_minor": 2
}
