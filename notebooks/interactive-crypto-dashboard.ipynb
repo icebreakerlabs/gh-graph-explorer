{
 "cells": [
  {
   "cell_type": "raw",
   "metadata": {
    "vscode": {
     "languageId": "raw"
    }
   },
   "source": [
    "# 🎛️ Interactive Crypto Repository Analysis Dashboard\n",
    "\n",
    "This notebook provides an interactive interface for exploring crypto repository collaboration networks with:\n",
    "- **Repository filtering widgets** - Select specific repos to analyze\n",
    "- **Interactive network visualizations** - Explore contributor networks\n",
    "- **Real-time contribution stats** - See stats update as you filter\n",
    "- **Timeline analysis** - Track activity over time\n",
    "- **Contributor comparisons** - Compare activity patterns\n",
    "\n",
    "## 🚀 Getting Started\n",
    "\n",
    "1. **Run all cells** to load the data and create the dashboard\n",
    "2. **Use the filter widgets** to select repositories and date ranges\n",
    "3. **Explore the interactive visualizations** that update automatically\n",
    "4. **Hover over elements** in the plots for detailed information\n",
    "\n",
    "## 📊 How to Add More Repositories\n",
    "\n",
    "Before running this notebook, you can add repositories using several methods:\n",
    "\n",
    "### Method 1: Enhanced Crypto Analyzer\n",
    "```python\n",
    "# In notebooks directory, run:\n",
    "python add_repos_example.py\n",
    "```\n",
    "\n",
    "### Method 2: Edit Icebreaker Analysis\n",
    "```python\n",
    "# Edit extended_cobalt_analysis.py, line 44-47:\n",
    "self.repositories = [\n",
    "    {'owner': 'icebreakerlabs', 'repo': 'cobalt'},\n",
    "    {'owner': 'icebreakerlabs', 'repo': 'columbo'},\n",
    "    {'owner': 'your-org', 'repo': 'your-repo'},  # Add here\n",
    "]\n",
    "```\n",
    "\n",
    "### Method 3: Custom Configuration\n",
    "Create a JSON file with your repositories and run the main collection tool.\n",
    "\n",
    "See `HOW_TO_ADD_REPOS.md` for complete instructions.\n"
   ]
  },
  {
   "cell_type": "code",
   "execution_count": null,
   "metadata": {},
   "outputs": [],
   "source": [
    "# Import required libraries\n",
    "import os\n",
    "import sys\n",
    "import warnings\n",
    "warnings.filterwarnings('ignore')\n",
    "\n",
    "# Add the parent directory to Python path to import our analyzer\n",
    "sys.path.append('..')\n",
    "sys.path.append('.')\n",
    "\n",
    "# Import the interactive analyzer\n",
    "from interactive_crypto_analyzer import InteractiveCryptoAnalyzer, run_interactive_analysis\n",
    "\n",
    "# Display setup\n",
    "from IPython.display import display, HTML\n",
    "import ipywidgets as widgets\n",
    "\n",
    "print(\"✅ Libraries imported successfully!\")\n",
    "print(\"📊 Ready to create interactive crypto repository dashboard\")\n"
   ]
  },
  {
   "cell_type": "code",
   "execution_count": null,
   "metadata": {},
   "outputs": [],
   "source": [
    "# Create and launch the interactive dashboard\n",
    "github_token = os.environ.get('GITHUB_TOKEN')\n",
    "if not github_token:\n",
    "    print(\"❌ GITHUB_TOKEN not found in environment variables\")\n",
    "    print(\"💡 Please set your GitHub token in the environment\")\n",
    "else:\n",
    "    print(\"✅ GitHub token found\")\n",
    "\n",
    "# Check for existing data files\n",
    "data_files = [f for f in os.listdir('data/') if f.startswith('crypto_repos_raw_activity_')]\n",
    "metrics_files = [f for f in os.listdir('data/') if f.startswith('crypto_repos_sna_metrics_')]\n",
    "\n",
    "print(f\"\\n📁 Data files found:\")\n",
    "print(f\"   Raw activity files: {len(data_files)}\")\n",
    "print(f\"   SNA metrics files: {len(metrics_files)}\")\n",
    "\n",
    "if data_files and metrics_files:\n",
    "    print(\"✅ Analysis data is available for interactive exploration\")\n",
    "    latest_data = sorted(data_files)[-1]\n",
    "    latest_metrics = sorted(metrics_files)[-1]\n",
    "    print(f\"   Latest data: {latest_data}\")\n",
    "    print(f\"   Latest metrics: {latest_metrics}\")\n",
    "    \n",
    "    print(\"\\n🚀 Launching Interactive Dashboard...\")\n",
    "    print(\"=\" * 60)\n",
    "    \n",
    "    # Initialize the analyzer\n",
    "    analyzer = InteractiveCryptoAnalyzer(github_token)\n",
    "    \n",
    "    # Load existing data and create interactive dashboard\n",
    "    if analyzer.load_existing_data():\n",
    "        # Display summary stats\n",
    "        summary_widget = analyzer.create_summary_stats_widget()\n",
    "        display(summary_widget)\n",
    "        \n",
    "        # Create the interactive dashboard\n",
    "        analyzer.create_interactive_dashboard()\n",
    "    else:\n",
    "        print(\"❌ Failed to load analysis data\")\n",
    "else:\n",
    "    print(\"⚠️  No analysis data found. Please run repository analysis first.\")\n",
    "    print(\"\\n💡 To add repositories and generate data:\")\n",
    "    print(\"   1. Run: python add_repos_example.py\")\n",
    "    print(\"   2. Or run: python crypto_repo_analyzer.py\")\n",
    "    print(\"   3. Or run: python extended_cobalt_analysis.py\")\n",
    "    print(\"   4. Then rerun this notebook\")\n"
   ]
  },
  {
   "cell_type": "raw",
   "metadata": {
    "vscode": {
     "languageId": "raw"
    }
   },
   "source": [
    "# 🎛️ Interactive Crypto Repository Analysis Dashboard\n",
    "\n",
    "This notebook provides an interactive interface for exploring crypto repository collaboration networks with:\n",
    "- **Repository filtering widgets** - Select specific repos to analyze\n",
    "- **Interactive network visualizations** - Explore contributor networks\n",
    "- **Real-time contribution stats** - See stats update as you filter\n",
    "- **Timeline analysis** - Track activity over time\n",
    "- **Contributor comparisons** - Compare activity patterns\n",
    "\n",
    "## 🚀 Getting Started\n",
    "\n",
    "1. **Run all cells** to load the data and create the dashboard\n",
    "2. **Use the filter widgets** to select repositories and date ranges\n",
    "3. **Explore the interactive visualizations** that update automatically\n",
    "4. **Hover over elements** in the plots for detailed information\n"
   ]
  },
  {
   "cell_type": "code",
   "execution_count": 4,
   "metadata": {},
   "outputs": [
    {
     "name": "stdout",
     "output_type": "stream",
     "text": [
      "✅ Libraries imported successfully!\n",
      "📊 Ready to create interactive crypto repository dashboard\n"
     ]
    }
   ],
   "source": [
    "# Import required libraries\n",
    "import os\n",
    "import sys\n",
    "import warnings\n",
    "warnings.filterwarnings('ignore')\n",
    "\n",
    "# Add the parent directory to Python path to import our analyzer\n",
    "sys.path.append('..')\n",
    "sys.path.append('.')\n",
    "\n",
    "# Import the interactive analyzer\n",
    "from interactive_crypto_analyzer import InteractiveCryptoAnalyzer, run_interactive_analysis\n",
    "\n",
    "# Display setup\n",
    "from IPython.display import display, HTML\n",
    "import ipywidgets as widgets\n",
    "\n",
    "print(\"✅ Libraries imported successfully!\")\n",
    "print(\"📊 Ready to create interactive crypto repository dashboard\")\n"
   ]
  },
  {
   "cell_type": "code",
   "execution_count": 5,
   "metadata": {},
   "outputs": [
    {
     "name": "stdout",
     "output_type": "stream",
     "text": [
      "✅ GitHub token found\n",
      "\n",
      "📁 Data files found:\n",
      "   Raw activity files: 3\n",
      "   SNA metrics files: 3\n",
      "✅ Analysis data is available for interactive exploration\n",
      "   Latest data: crypto_repos_raw_activity_20250627_175939.csv\n",
      "   Latest metrics: crypto_repos_sna_metrics_20250627_175939.csv\n"
     ]
    }
   ],
   "source": [
    "# Check environment and data availability\n",
    "github_token = os.environ.get('GITHUB_TOKEN')\n",
    "if not github_token:\n",
    "    print(\"❌ GITHUB_TOKEN not found in environment variables\")\n",
    "    print(\"💡 Please set your GitHub token in the environment\")\n",
    "else:\n",
    "    print(\"✅ GitHub token found\")\n",
    "\n",
    "# Check for existing data files\n",
    "data_files = [f for f in os.listdir('data/') if f.startswith('crypto_repos_raw_activity_')]\n",
    "metrics_files = [f for f in os.listdir('data/') if f.startswith('crypto_repos_sna_metrics_')]\n",
    "\n",
    "print(f\"\\n📁 Data files found:\")\n",
    "print(f\"   Raw activity files: {len(data_files)}\")\n",
    "print(f\"   SNA metrics files: {len(metrics_files)}\")\n",
    "\n",
    "if data_files and metrics_files:\n",
    "    print(\"✅ Analysis data is available for interactive exploration\")\n",
    "    latest_data = sorted(data_files)[-1]\n",
    "    latest_metrics = sorted(metrics_files)[-1]\n",
    "    print(f\"   Latest data: {latest_data}\")\n",
    "    print(f\"   Latest metrics: {latest_metrics}\")\n",
    "else:\n",
    "    print(\"⚠️  No analysis data found. Please run the crypto repository analysis first.\")\n",
    "    print(\"   You can run: python crypto_repo_analyzer.py\")\n"
   ]
  },
  {
   "cell_type": "raw",
   "metadata": {
    "vscode": {
     "languageId": "raw"
    }
   },
   "source": [
    "## 🎮 Launch Interactive Dashboard\n",
    "\n",
    "The cell below will create the full interactive dashboard with:\n",
    "- Multi-select repository filter\n",
    "- Date range slider\n",
    "- Activity type selector\n",
    "- Real-time updating visualizations\n",
    "\n",
    "**Instructions:**\n",
    "1. Run the cell below\n",
    "2. Use the filter controls that appear\n",
    "3. Watch the visualizations update automatically\n",
    "4. Hover over network nodes and chart elements for details\n"
   ]
  },
  {
   "cell_type": "code",
   "execution_count": 6,
   "metadata": {},
   "outputs": [
    {
     "name": "stdout",
     "output_type": "stream",
     "text": [
      "🚀 Launching Interactive Crypto Repository Dashboard...\n",
      "============================================================\n",
      "✅ Loaded activity data: 39 records\n",
      "✅ Loaded SNA metrics: 15 users\n",
      "✅ Loaded repository summary: 17 repositories\n"
     ]
    },
    {
     "data": {
      "application/vnd.jupyter.widget-view+json": {
       "model_id": "571869e705884cb7aface8e57af13af6",
       "version_major": 2,
       "version_minor": 0
      },
      "text/plain": [
       "HTML(value='\\n        <div style=\"background-color: #f0f0f0; padding: 15px; border-radius: 5px; margin: 10px 0…"
      ]
     },
     "metadata": {},
     "output_type": "display_data"
    },
    {
     "name": "stdout",
     "output_type": "stream",
     "text": [
      "✅ Loaded activity data: 39 records\n",
      "✅ Loaded SNA metrics: 15 users\n",
      "✅ Loaded repository summary: 17 repositories\n",
      "🎛️ Creating Interactive Crypto Repository Analysis Dashboard\n",
      "============================================================\n",
      "🎮 Use the controls below to filter and explore the data:\n"
     ]
    },
    {
     "data": {
      "application/vnd.jupyter.widget-view+json": {
       "model_id": "784555cd0b0040fca9538f75d9496973",
       "version_major": 2,
       "version_minor": 0
      },
      "text/plain": [
       "VBox(children=(HTML(value='<h3>🔍 Filter Controls</h3>'), HBox(children=(SelectMultiple(description='Repositori…"
      ]
     },
     "metadata": {},
     "output_type": "display_data"
    }
   ],
   "source": [
    "# Create and launch the interactive dashboard\n",
    "if github_token and data_files and metrics_files:\n",
    "    print(\"🚀 Launching Interactive Crypto Repository Dashboard...\")\n",
    "    print(\"=\" * 60)\n",
    "    \n",
    "    # Initialize the analyzer\n",
    "    analyzer = InteractiveCryptoAnalyzer(github_token)\n",
    "    \n",
    "    # Load existing data\n",
    "    if analyzer.load_existing_data():\n",
    "        # Display summary stats\n",
    "        summary_widget = analyzer.create_summary_stats_widget()\n",
    "        display(summary_widget)\n",
    "        \n",
    "        # Create the interactive dashboard\n",
    "        analyzer.create_interactive_dashboard()\n",
    "    else:\n",
    "        print(\"❌ Failed to load analysis data\")\n",
    "else:\n",
    "    print(\"❌ Cannot launch dashboard - missing requirements:\")\n",
    "    if not github_token:\n",
    "        print(\"   - GitHub token not set\")\n",
    "    if not data_files:\n",
    "        print(\"   - No raw activity data files\")\n",
    "    if not metrics_files:\n",
    "        print(\"   - No SNA metrics files\")\n",
    "    print(\"\\n💡 Please run the crypto repository analysis first to generate data\")\n"
   ]
  },
  {
   "cell_type": "raw",
   "metadata": {
    "vscode": {
     "languageId": "raw"
    }
   },
   "source": [
    "## 🎯 Usage Tips\n",
    "\n",
    "### 🔍 Filtering Data\n",
    "- **Multiple repositories**: Hold Ctrl/Cmd to select multiple repos in the filter\n",
    "- **Date range**: Drag the slider endpoints to adjust the time window\n",
    "- **Activity types**: Select specific types of GitHub activities to focus on\n",
    "\n",
    "### 📊 Reading the Visualizations\n",
    "- **Network plot**: Node size = number of connections, colors = repositories\n",
    "- **Sunburst chart**: Inner ring = repositories, outer ring = contributors\n",
    "- **Timeline**: Shows activity trends over time by repository\n",
    "- **Scatter plot**: Compare contributor activity levels and patterns\n",
    "- **Bar charts**: Repository comparison metrics\n",
    "\n",
    "### 💡 Analysis Insights\n",
    "- Look for **bridge contributors** who work across multiple repositories\n",
    "- Identify **activity patterns** and seasonal trends\n",
    "- Compare **repository health** through contributor diversity\n",
    "- Spot **collaboration clusters** in the network visualization\n",
    "\n",
    "### 🚀 Next Steps\n",
    "- Export filtered data for further analysis\n",
    "- Compare different time periods\n",
    "- Focus on specific repository ecosystems\n",
    "- Identify potential collaboration opportunities\n"
   ]
  },
  {
   "cell_type": "code",
   "execution_count": null,
   "metadata": {},
   "outputs": [],
   "source": []
  },
  {
   "cell_type": "code",
   "execution_count": null,
   "metadata": {},
   "outputs": [],
   "source": []
  }
 ],
 "metadata": {
  "kernelspec": {
   "display_name": "Python 3 (ipykernel)",
   "language": "python",
   "name": "python3"
  },
  "language_info": {
   "codemirror_mode": {
    "name": "ipython",
    "version": 3
   },
   "file_extension": ".py",
   "mimetype": "text/x-python",
   "name": "python",
   "nbconvert_exporter": "python",
   "pygments_lexer": "ipython3",
   "version": "3.12.7"
  }
 },
 "nbformat": 4,
 "nbformat_minor": 4
}
